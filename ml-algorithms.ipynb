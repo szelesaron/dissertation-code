{
 "cells": [
  {
   "cell_type": "markdown",
   "id": "11c27823",
   "metadata": {},
   "source": [
    "# Imports "
   ]
  },
  {
   "cell_type": "code",
   "execution_count": 162,
   "id": "a4499d4b",
   "metadata": {},
   "outputs": [],
   "source": [
    "import numpy as np\n",
    "import matplotlib.pyplot as plt\n",
    "import pandas as pd\n",
    "import seaborn as sns\n",
    "from sklearn import metrics\n",
    "from sklearn.model_selection import cross_val_score\n",
    "from sklearn.metrics import f1_score\n",
    "plt.style.use('ggplot') #https://matplotlib.org/stable/gallery/style_sheets/style_sheets_reference.html\n",
    "%matplotlib inline"
   ]
  },
  {
   "cell_type": "markdown",
   "id": "942f0886",
   "metadata": {},
   "source": [
    "# Get the data"
   ]
  },
  {
   "cell_type": "code",
   "execution_count": 163,
   "id": "4bf717e4",
   "metadata": {},
   "outputs": [],
   "source": [
    "data_bench = pd.read_pickle(\"data/course_and_uni_1819.pkl\")\n",
    "data_covid = pd.read_pickle(\"data/course_and_uni_2122.pkl\")"
   ]
  },
  {
   "cell_type": "code",
   "execution_count": 164,
   "id": "6401eb00",
   "metadata": {},
   "outputs": [],
   "source": [
    "#drop not needed columns - no point in keeping uni and course as we don't have future data (duh)\n",
    "data_bench.drop([\"uni\",\"course\"],inplace = True, axis = \"columns\")\n",
    "data_covid.drop([\"uni\",\"course\"], inplace = True, axis = \"columns\")"
   ]
  },
  {
   "cell_type": "code",
   "execution_count": 165,
   "id": "045e631b",
   "metadata": {},
   "outputs": [
    {
     "data": {
      "text/plain": [
       "<AxesSubplot: title={'center': '2021-2022'}>"
      ]
     },
     "execution_count": 165,
     "metadata": {},
     "output_type": "execute_result"
    },
    {
     "data": {
      "image/png": "[encoded data removed]",
      "text/plain": [
       "<Figure size 640x480 with 2 Axes>"
      ]
     },
     "metadata": {},
     "output_type": "display_data"
    }
   ],
   "source": [
    "data_bench.Q27 = data_bench.Q27.apply(lambda x: 1 if x >= 0.8 else 0)\n",
    "plt.subplot(2,2,1)\n",
    "plt.title(\"2018-2019\")\n",
    "data_bench.Q27.hist()\n",
    "\n",
    "data_covid.Q27 = data_covid.Q27.apply(lambda x: 1 if x >= 0.8 else 0)\n",
    "plt.subplot(2,2,2)\n",
    "plt.title(\"2021-2022\")\n",
    "data_covid.Q27.hist()"
   ]
  },
  {
   "cell_type": "code",
   "execution_count": 166,
   "id": "b1b06a60",
   "metadata": {},
   "outputs": [],
   "source": [
    "from sklearn.model_selection import train_test_split\n",
    "x_train_bench, x_test_bench, y_train_bench, y_test_bench = train_test_split(data_bench.iloc[:,:26], data_bench.iloc[:,26], test_size=0.25, stratify= data_bench.iloc[:,26], shuffle = True, random_state=661)\n",
    "x_train_covid, x_test_covid, y_train_covid, y_test_covid = train_test_split(data_covid.iloc[:,:26], data_covid.iloc[:,26], test_size=0.25, stratify = data_covid.iloc[:,26], shuffle = True, random_state=661)"
   ]
  },
  {
   "cell_type": "markdown",
   "id": "ad46e8a8",
   "metadata": {},
   "source": [
    "# Algorithms"
   ]
  },
  {
   "cell_type": "markdown",
   "id": "223dcfc1",
   "metadata": {},
   "source": [
    "#### Logistic regression "
   ]
  },
  {
   "cell_type": "code",
   "execution_count": 167,
   "id": "abb55872",
   "metadata": {},
   "outputs": [
    {
     "name": "stdout",
     "output_type": "stream",
     "text": [
      "Accuracy:  0.8826666666666667\n",
      "F1 score:  0.9172932330827068\n",
      "0.88 CV accuracy with a standard deviation of 0.05\n"
     ]
    }
   ],
   "source": [
    "from sklearn.linear_model import LogisticRegression\n",
    "logreg = LogisticRegression()\n",
    "logreg.fit(x_train_bench, y_train_bench)\n",
    "preds = logreg.predict(x_test_bench)\n",
    "\n",
    "#get metrics\n",
    "acc = logreg.score(x_test_bench, y_test_bench)\n",
    "print(\"Accuracy: \", acc)\n",
    "print(\"F1 score: \", f1_score(y_test_bench, preds))\n",
    "scores = cross_val_score(logreg, x_test_bench, y_test_bench, cv=10)\n",
    "print(f\"{scores.mean():.2f} CV accuracy with a standard deviation of {scores.std():.2f}\")"
   ]
  },
  {
   "cell_type": "code",
   "execution_count": 168,
   "id": "cba943b4",
   "metadata": {},
   "outputs": [
    {
     "name": "stdout",
     "output_type": "stream",
     "text": [
      "[[ 87  30]\n",
      " [ 14 244]]\n"
     ]
    },
    {
     "data": {
      "text/plain": [
       "<AxesSubplot: >"
      ]
     },
     "execution_count": 168,
     "metadata": {},
     "output_type": "execute_result"
    },
    {
     "data": {
      "image/png": "[encoded data removed]",
      "text/plain": [
       "<Figure size 640x480 with 2 Axes>"
      ]
     },
     "metadata": {},
     "output_type": "display_data"
    }
   ],
   "source": [
    "cm = metrics.confusion_matrix(y_test_bench, preds)\n",
    "print(cm)\n",
    "sns.heatmap(cm, annot=True)"
   ]
  },
  {
   "cell_type": "markdown",
   "id": "8229144c",
   "metadata": {},
   "source": [
    "#### Decision tree"
   ]
  },
  {
   "cell_type": "code",
   "execution_count": null,
   "id": "77ffe405",
   "metadata": {},
   "outputs": [],
   "source": []
  },
  {
   "cell_type": "markdown",
   "id": "e93ba3fe",
   "metadata": {},
   "source": [
    "#### Random forest"
   ]
  },
  {
   "cell_type": "code",
   "execution_count": null,
   "id": "54b68548",
   "metadata": {},
   "outputs": [],
   "source": []
  },
  {
   "cell_type": "markdown",
   "id": "480eaeea",
   "metadata": {},
   "source": [
    "#### Artificial neural network"
   ]
  },
  {
   "cell_type": "code",
   "execution_count": null,
   "id": "fca912d4",
   "metadata": {},
   "outputs": [],
   "source": []
  }
 ],
 "metadata": {
  "kernelspec": {
   "display_name": "Python 3 (ipykernel)",
   "language": "python",
   "name": "python3"
  },
  "language_info": {
   "codemirror_mode": {
    "name": "ipython",
    "version": 3
   },
   "file_extension": ".py",
   "mimetype": "text/x-python",
   "name": "python",
   "nbconvert_exporter": "python",
   "pygments_lexer": "ipython3",
   "version": "3.8.16"
  }
 },
 "nbformat": 4,
 "nbformat_minor": 5
}
