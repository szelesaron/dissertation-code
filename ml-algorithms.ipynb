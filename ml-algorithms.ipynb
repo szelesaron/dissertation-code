{
 "cells": [
  {
   "cell_type": "markdown",
   "id": "11c27823",
   "metadata": {},
   "source": [
    "# Imports "
   ]
  },
  {
   "cell_type": "code",
   "execution_count": 1,
   "id": "a4499d4b",
   "metadata": {},
   "outputs": [
    {
     "name": "stderr",
     "output_type": "stream",
     "text": [
      "D:\\anaconda\\lib\\site-packages\\numpy\\_distributor_init.py:30: UserWarning: loaded more than 1 DLL from .libs:\n",
      "D:\\anaconda\\lib\\site-packages\\numpy\\.libs\\libopenblas.EL2C6PLE4ZYW3ECEVIV3OXXGRN2NRFM2.gfortran-win_amd64.dll\n",
      "D:\\anaconda\\lib\\site-packages\\numpy\\.libs\\libopenblas64__v0.3.21-gcc_10_3_0.dll\n",
      "  warnings.warn(\"loaded more than 1 DLL from .libs:\"\n"
     ]
    }
   ],
   "source": [
    "import numpy as np\n",
    "import seaborn as sns\n",
    "import matplotlib.pyplot as plt\n",
    "import pandas as pd\n",
    "plt.style.use('ggplot') #https://matplotlib.org/stable/gallery/style_sheets/style_sheets_reference.html\n",
    "%matplotlib inline"
   ]
  },
  {
   "cell_type": "markdown",
   "id": "942f0886",
   "metadata": {},
   "source": [
    "# Get the data"
   ]
  },
  {
   "cell_type": "code",
   "execution_count": 2,
   "id": "4bf717e4",
   "metadata": {},
   "outputs": [],
   "source": [
    "unis_1819 = pd.read_pickle(\"data/unis_1819.pkl\")\n",
    "unis_2122 = pd.read_pickle(\"data/unis_2122.pkl\")\n",
    "summary_1819 = pd.read_pickle(\"data/summary_1819.pkl\")\n",
    "summary_2122 = pd.read_pickle(\"data/summary_2122.pkl\")\n",
    "course_1819 = pd.read_pickle(\"data/course_1819.pkl\")\n",
    "course_2122 = pd.read_pickle(\"data/course_2122.pkl\")"
   ]
  },
  {
   "cell_type": "markdown",
   "id": "beaf4bf0",
   "metadata": {},
   "source": [
    "# Pre-process"
   ]
  },
  {
   "cell_type": "code",
   "execution_count": null,
   "id": "6135f545",
   "metadata": {},
   "outputs": [],
   "source": []
  }
 ],
 "metadata": {
  "kernelspec": {
   "display_name": "Python 3 (ipykernel)",
   "language": "python",
   "name": "python3"
  },
  "language_info": {
   "codemirror_mode": {
    "name": "ipython",
    "version": 3
   },
   "file_extension": ".py",
   "mimetype": "text/x-python",
   "name": "python",
   "nbconvert_exporter": "python",
   "pygments_lexer": "ipython3",
   "version": "3.8.16"
  }
 },
 "nbformat": 4,
 "nbformat_minor": 5
}
