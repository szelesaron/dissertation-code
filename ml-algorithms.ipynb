{
 "cells": [
  {
   "cell_type": "markdown",
   "id": "11c27823",
   "metadata": {},
   "source": [
    "# Imports "
   ]
  },
  {
   "cell_type": "code",
   "execution_count": 1,
   "id": "a4499d4b",
   "metadata": {},
   "outputs": [
    {
     "name": "stderr",
     "output_type": "stream",
     "text": [
      "D:\\anaconda\\lib\\site-packages\\numpy\\_distributor_init.py:30: UserWarning: loaded more than 1 DLL from .libs:\n",
      "D:\\anaconda\\lib\\site-packages\\numpy\\.libs\\libopenblas.EL2C6PLE4ZYW3ECEVIV3OXXGRN2NRFM2.gfortran-win_amd64.dll\n",
      "D:\\anaconda\\lib\\site-packages\\numpy\\.libs\\libopenblas64__v0.3.21-gcc_10_3_0.dll\n",
      "  warnings.warn(\"loaded more than 1 DLL from .libs:\"\n"
     ]
    }
   ],
   "source": [
    "import numpy as np\n",
    "import matplotlib.pyplot as plt\n",
    "import pandas as pd\n",
    "from sklearn.linear_model import LogisticRegression\n",
    "from sklearn import tree\n",
    "import graphviz\n",
    "from sklearn.model_selection import train_test_split\n",
    "import seaborn as sns\n",
    "from sklearn.model_selection import GridSearchCV, cross_val_score\n",
    "from sklearn import metrics\n",
    "from sklearn.ensemble import RandomForestClassifier\n",
    "from sklearn.metrics import f1_score\n",
    "import warnings\n",
    "from sklearn.model_selection import RandomizedSearchCV\n",
    "from scipy.stats import uniform\n",
    "warnings.filterwarnings('ignore')\n",
    "plt.style.use('ggplot') #https://matplotlib.org/stable/gallery/style_sheets/style_sheets_reference.html\n",
    "%matplotlib inline"
   ]
  },
  {
   "cell_type": "markdown",
   "id": "942f0886",
   "metadata": {},
   "source": [
    "# Data setup"
   ]
  },
  {
   "cell_type": "code",
   "execution_count": 2,
   "id": "4bf717e4",
   "metadata": {},
   "outputs": [],
   "source": [
    "data_bench = pd.read_pickle(\"data/course_and_uni_1819.pkl\")\n",
    "data_covid = pd.read_pickle(\"data/course_and_uni_2122.pkl\")\n",
    "\n",
    "#drop not needed columns - no point in keeping uni and course as we don't have future data (duh)\n",
    "data_bench.drop([\"uni\",\"course\"],inplace = True, axis = \"columns\")\n",
    "data_covid.drop([\"uni\",\"course\"], inplace = True, axis = \"columns\")"
   ]
  },
  {
   "cell_type": "code",
   "execution_count": 3,
   "id": "4ff18015",
   "metadata": {},
   "outputs": [
    {
     "data": {
      "text/plain": [
       "<AxesSubplot: title={'center': '2021-2022'}>"
      ]
     },
     "execution_count": 3,
     "metadata": {},
     "output_type": "execute_result"
    },
    {
     "data": {
      "image/png": "[encoded data removed]",
      "text/plain": [
       "<Figure size 640x480 with 2 Axes>"
      ]
     },
     "metadata": {},
     "output_type": "display_data"
    }
   ],
   "source": [
    "data_bench.Q27 = data_bench.Q27.apply(lambda x: 1 if x >= 0.8 else 0)\n",
    "plt.subplot(2,2,1)\n",
    "plt.title(\"2018-2019\")\n",
    "data_bench.Q27.hist()\n",
    "\n",
    "data_covid.Q27 = data_covid.Q27.apply(lambda x: 1 if x >= 0.8 else 0)\n",
    "plt.subplot(2,2,2)\n",
    "plt.title(\"2021-2022\")\n",
    "data_covid.Q27.hist()"
   ]
  },
  {
   "cell_type": "code",
   "execution_count": 6,
   "id": "55cdeb24",
   "metadata": {},
   "outputs": [
    {
     "data": {
      "text/html": [
       "<div>\n",
       "<style scoped>\n",
       "    .dataframe tbody tr th:only-of-type {\n",
       "        vertical-align: middle;\n",
       "    }\n",
       "\n",
       "    .dataframe tbody tr th {\n",
       "        vertical-align: top;\n",
       "    }\n",
       "\n",
       "    .dataframe thead th {\n",
       "        text-align: right;\n",
       "    }\n",
       "</style>\n",
       "<table border=\"1\" class=\"dataframe\">\n",
       "  <thead>\n",
       "    <tr style=\"text-align: right;\">\n",
       "      <th></th>\n",
       "      <th>Q01</th>\n",
       "      <th>Q02</th>\n",
       "      <th>Q03</th>\n",
       "      <th>Q04</th>\n",
       "      <th>Q05</th>\n",
       "      <th>Q06</th>\n",
       "      <th>Q07</th>\n",
       "      <th>Q08</th>\n",
       "      <th>Q09</th>\n",
       "      <th>Q10</th>\n",
       "      <th>...</th>\n",
       "      <th>Q17</th>\n",
       "      <th>Q18</th>\n",
       "      <th>Q19</th>\n",
       "      <th>Q20</th>\n",
       "      <th>Q21</th>\n",
       "      <th>Q22</th>\n",
       "      <th>Q23</th>\n",
       "      <th>Q24</th>\n",
       "      <th>Q25</th>\n",
       "      <th>Q26</th>\n",
       "    </tr>\n",
       "  </thead>\n",
       "  <tbody>\n",
       "    <tr>\n",
       "      <th>894</th>\n",
       "      <td>1.000000</td>\n",
       "      <td>1.000000</td>\n",
       "      <td>1.000000</td>\n",
       "      <td>1.000000</td>\n",
       "      <td>1.000000</td>\n",
       "      <td>1.000000</td>\n",
       "      <td>1.000000</td>\n",
       "      <td>1.00000</td>\n",
       "      <td>1.000000</td>\n",
       "      <td>1.00000</td>\n",
       "      <td>...</td>\n",
       "      <td>1.000000</td>\n",
       "      <td>0.857850</td>\n",
       "      <td>0.92895</td>\n",
       "      <td>1.000000</td>\n",
       "      <td>0.92895</td>\n",
       "      <td>0.92895</td>\n",
       "      <td>0.928950</td>\n",
       "      <td>1.000000</td>\n",
       "      <td>0.899550</td>\n",
       "      <td>0.822900</td>\n",
       "    </tr>\n",
       "    <tr>\n",
       "      <th>406</th>\n",
       "      <td>0.942075</td>\n",
       "      <td>0.902800</td>\n",
       "      <td>0.898350</td>\n",
       "      <td>0.902825</td>\n",
       "      <td>0.914575</td>\n",
       "      <td>0.910075</td>\n",
       "      <td>0.850900</td>\n",
       "      <td>0.82350</td>\n",
       "      <td>0.792775</td>\n",
       "      <td>0.79030</td>\n",
       "      <td>...</td>\n",
       "      <td>0.843300</td>\n",
       "      <td>0.868475</td>\n",
       "      <td>0.88945</td>\n",
       "      <td>0.858125</td>\n",
       "      <td>0.77160</td>\n",
       "      <td>0.89800</td>\n",
       "      <td>0.874775</td>\n",
       "      <td>0.818900</td>\n",
       "      <td>0.714600</td>\n",
       "      <td>0.620600</td>\n",
       "    </tr>\n",
       "    <tr>\n",
       "      <th>1323</th>\n",
       "      <td>0.919600</td>\n",
       "      <td>0.896650</td>\n",
       "      <td>0.945050</td>\n",
       "      <td>0.837300</td>\n",
       "      <td>0.913450</td>\n",
       "      <td>0.877850</td>\n",
       "      <td>0.772050</td>\n",
       "      <td>0.72720</td>\n",
       "      <td>0.815350</td>\n",
       "      <td>0.79175</td>\n",
       "      <td>...</td>\n",
       "      <td>0.808650</td>\n",
       "      <td>0.736250</td>\n",
       "      <td>0.86480</td>\n",
       "      <td>0.841400</td>\n",
       "      <td>0.68800</td>\n",
       "      <td>0.71785</td>\n",
       "      <td>0.826900</td>\n",
       "      <td>0.759550</td>\n",
       "      <td>0.537750</td>\n",
       "      <td>0.286550</td>\n",
       "    </tr>\n",
       "    <tr>\n",
       "      <th>738</th>\n",
       "      <td>0.858350</td>\n",
       "      <td>0.757550</td>\n",
       "      <td>0.817400</td>\n",
       "      <td>0.789800</td>\n",
       "      <td>0.841150</td>\n",
       "      <td>0.866750</td>\n",
       "      <td>0.783100</td>\n",
       "      <td>0.86945</td>\n",
       "      <td>0.816500</td>\n",
       "      <td>0.76365</td>\n",
       "      <td>...</td>\n",
       "      <td>0.774600</td>\n",
       "      <td>0.922200</td>\n",
       "      <td>0.90010</td>\n",
       "      <td>0.891650</td>\n",
       "      <td>0.74130</td>\n",
       "      <td>0.88095</td>\n",
       "      <td>0.836600</td>\n",
       "      <td>0.778100</td>\n",
       "      <td>0.732200</td>\n",
       "      <td>0.622800</td>\n",
       "    </tr>\n",
       "    <tr>\n",
       "      <th>25</th>\n",
       "      <td>0.660700</td>\n",
       "      <td>0.666650</td>\n",
       "      <td>0.511900</td>\n",
       "      <td>0.482150</td>\n",
       "      <td>0.541650</td>\n",
       "      <td>0.815500</td>\n",
       "      <td>0.851200</td>\n",
       "      <td>0.66070</td>\n",
       "      <td>0.738100</td>\n",
       "      <td>0.54165</td>\n",
       "      <td>...</td>\n",
       "      <td>0.596150</td>\n",
       "      <td>0.541650</td>\n",
       "      <td>0.72435</td>\n",
       "      <td>0.773800</td>\n",
       "      <td>0.39285</td>\n",
       "      <td>0.80950</td>\n",
       "      <td>0.654800</td>\n",
       "      <td>0.434500</td>\n",
       "      <td>0.315500</td>\n",
       "      <td>0.348450</td>\n",
       "    </tr>\n",
       "    <tr>\n",
       "      <th>...</th>\n",
       "      <td>...</td>\n",
       "      <td>...</td>\n",
       "      <td>...</td>\n",
       "      <td>...</td>\n",
       "      <td>...</td>\n",
       "      <td>...</td>\n",
       "      <td>...</td>\n",
       "      <td>...</td>\n",
       "      <td>...</td>\n",
       "      <td>...</td>\n",
       "      <td>...</td>\n",
       "      <td>...</td>\n",
       "      <td>...</td>\n",
       "      <td>...</td>\n",
       "      <td>...</td>\n",
       "      <td>...</td>\n",
       "      <td>...</td>\n",
       "      <td>...</td>\n",
       "      <td>...</td>\n",
       "      <td>...</td>\n",
       "      <td>...</td>\n",
       "    </tr>\n",
       "    <tr>\n",
       "      <th>222</th>\n",
       "      <td>0.937350</td>\n",
       "      <td>0.925550</td>\n",
       "      <td>0.851050</td>\n",
       "      <td>0.842900</td>\n",
       "      <td>0.846050</td>\n",
       "      <td>0.856050</td>\n",
       "      <td>0.842900</td>\n",
       "      <td>0.79055</td>\n",
       "      <td>0.837900</td>\n",
       "      <td>0.73660</td>\n",
       "      <td>...</td>\n",
       "      <td>0.664750</td>\n",
       "      <td>0.777300</td>\n",
       "      <td>0.91120</td>\n",
       "      <td>0.796050</td>\n",
       "      <td>0.76160</td>\n",
       "      <td>0.85420</td>\n",
       "      <td>0.834200</td>\n",
       "      <td>0.826050</td>\n",
       "      <td>0.729200</td>\n",
       "      <td>0.635825</td>\n",
       "    </tr>\n",
       "    <tr>\n",
       "      <th>1145</th>\n",
       "      <td>0.905850</td>\n",
       "      <td>0.841200</td>\n",
       "      <td>0.904700</td>\n",
       "      <td>0.786250</td>\n",
       "      <td>0.855150</td>\n",
       "      <td>0.855150</td>\n",
       "      <td>0.725350</td>\n",
       "      <td>0.70405</td>\n",
       "      <td>0.740100</td>\n",
       "      <td>0.65805</td>\n",
       "      <td>...</td>\n",
       "      <td>0.787150</td>\n",
       "      <td>0.880750</td>\n",
       "      <td>0.88720</td>\n",
       "      <td>0.907950</td>\n",
       "      <td>0.62825</td>\n",
       "      <td>0.79520</td>\n",
       "      <td>0.885050</td>\n",
       "      <td>0.744850</td>\n",
       "      <td>0.505850</td>\n",
       "      <td>0.460350</td>\n",
       "    </tr>\n",
       "    <tr>\n",
       "      <th>1159</th>\n",
       "      <td>0.916225</td>\n",
       "      <td>0.905925</td>\n",
       "      <td>0.898125</td>\n",
       "      <td>0.864850</td>\n",
       "      <td>0.878050</td>\n",
       "      <td>0.899450</td>\n",
       "      <td>0.886125</td>\n",
       "      <td>0.79560</td>\n",
       "      <td>0.778125</td>\n",
       "      <td>0.79280</td>\n",
       "      <td>...</td>\n",
       "      <td>0.794275</td>\n",
       "      <td>0.851200</td>\n",
       "      <td>0.85555</td>\n",
       "      <td>0.836500</td>\n",
       "      <td>0.82980</td>\n",
       "      <td>0.88785</td>\n",
       "      <td>0.876100</td>\n",
       "      <td>0.831275</td>\n",
       "      <td>0.677725</td>\n",
       "      <td>0.548400</td>\n",
       "    </tr>\n",
       "    <tr>\n",
       "      <th>1416</th>\n",
       "      <td>0.908825</td>\n",
       "      <td>0.837400</td>\n",
       "      <td>0.823100</td>\n",
       "      <td>0.834625</td>\n",
       "      <td>0.898775</td>\n",
       "      <td>0.868975</td>\n",
       "      <td>0.820925</td>\n",
       "      <td>0.76485</td>\n",
       "      <td>0.770200</td>\n",
       "      <td>0.87055</td>\n",
       "      <td>...</td>\n",
       "      <td>0.802025</td>\n",
       "      <td>0.830675</td>\n",
       "      <td>0.89745</td>\n",
       "      <td>0.847200</td>\n",
       "      <td>0.71805</td>\n",
       "      <td>0.91215</td>\n",
       "      <td>0.897350</td>\n",
       "      <td>0.828000</td>\n",
       "      <td>0.728650</td>\n",
       "      <td>0.575075</td>\n",
       "    </tr>\n",
       "    <tr>\n",
       "      <th>1321</th>\n",
       "      <td>0.806300</td>\n",
       "      <td>0.616950</td>\n",
       "      <td>0.910800</td>\n",
       "      <td>0.792700</td>\n",
       "      <td>0.770650</td>\n",
       "      <td>0.798150</td>\n",
       "      <td>0.721950</td>\n",
       "      <td>0.70290</td>\n",
       "      <td>0.636550</td>\n",
       "      <td>0.42670</td>\n",
       "      <td>...</td>\n",
       "      <td>0.742950</td>\n",
       "      <td>0.873800</td>\n",
       "      <td>0.82265</td>\n",
       "      <td>0.942050</td>\n",
       "      <td>0.64145</td>\n",
       "      <td>0.94175</td>\n",
       "      <td>0.807700</td>\n",
       "      <td>0.622450</td>\n",
       "      <td>0.476600</td>\n",
       "      <td>0.254550</td>\n",
       "    </tr>\n",
       "  </tbody>\n",
       "</table>\n",
       "<p>1122 rows × 26 columns</p>\n",
       "</div>"
      ],
      "text/plain": [
       "           Q01       Q02       Q03       Q04       Q05       Q06       Q07  \\\n",
       "894   1.000000  1.000000  1.000000  1.000000  1.000000  1.000000  1.000000   \n",
       "406   0.942075  0.902800  0.898350  0.902825  0.914575  0.910075  0.850900   \n",
       "1323  0.919600  0.896650  0.945050  0.837300  0.913450  0.877850  0.772050   \n",
       "738   0.858350  0.757550  0.817400  0.789800  0.841150  0.866750  0.783100   \n",
       "25    0.660700  0.666650  0.511900  0.482150  0.541650  0.815500  0.851200   \n",
       "...        ...       ...       ...       ...       ...       ...       ...   \n",
       "222   0.937350  0.925550  0.851050  0.842900  0.846050  0.856050  0.842900   \n",
       "1145  0.905850  0.841200  0.904700  0.786250  0.855150  0.855150  0.725350   \n",
       "1159  0.916225  0.905925  0.898125  0.864850  0.878050  0.899450  0.886125   \n",
       "1416  0.908825  0.837400  0.823100  0.834625  0.898775  0.868975  0.820925   \n",
       "1321  0.806300  0.616950  0.910800  0.792700  0.770650  0.798150  0.721950   \n",
       "\n",
       "          Q08       Q09      Q10  ...       Q17       Q18      Q19       Q20  \\\n",
       "894   1.00000  1.000000  1.00000  ...  1.000000  0.857850  0.92895  1.000000   \n",
       "406   0.82350  0.792775  0.79030  ...  0.843300  0.868475  0.88945  0.858125   \n",
       "1323  0.72720  0.815350  0.79175  ...  0.808650  0.736250  0.86480  0.841400   \n",
       "738   0.86945  0.816500  0.76365  ...  0.774600  0.922200  0.90010  0.891650   \n",
       "25    0.66070  0.738100  0.54165  ...  0.596150  0.541650  0.72435  0.773800   \n",
       "...       ...       ...      ...  ...       ...       ...      ...       ...   \n",
       "222   0.79055  0.837900  0.73660  ...  0.664750  0.777300  0.91120  0.796050   \n",
       "1145  0.70405  0.740100  0.65805  ...  0.787150  0.880750  0.88720  0.907950   \n",
       "1159  0.79560  0.778125  0.79280  ...  0.794275  0.851200  0.85555  0.836500   \n",
       "1416  0.76485  0.770200  0.87055  ...  0.802025  0.830675  0.89745  0.847200   \n",
       "1321  0.70290  0.636550  0.42670  ...  0.742950  0.873800  0.82265  0.942050   \n",
       "\n",
       "          Q21      Q22       Q23       Q24       Q25       Q26  \n",
       "894   0.92895  0.92895  0.928950  1.000000  0.899550  0.822900  \n",
       "406   0.77160  0.89800  0.874775  0.818900  0.714600  0.620600  \n",
       "1323  0.68800  0.71785  0.826900  0.759550  0.537750  0.286550  \n",
       "738   0.74130  0.88095  0.836600  0.778100  0.732200  0.622800  \n",
       "25    0.39285  0.80950  0.654800  0.434500  0.315500  0.348450  \n",
       "...       ...      ...       ...       ...       ...       ...  \n",
       "222   0.76160  0.85420  0.834200  0.826050  0.729200  0.635825  \n",
       "1145  0.62825  0.79520  0.885050  0.744850  0.505850  0.460350  \n",
       "1159  0.82980  0.88785  0.876100  0.831275  0.677725  0.548400  \n",
       "1416  0.71805  0.91215  0.897350  0.828000  0.728650  0.575075  \n",
       "1321  0.64145  0.94175  0.807700  0.622450  0.476600  0.254550  \n",
       "\n",
       "[1122 rows x 26 columns]"
      ]
     },
     "execution_count": 6,
     "metadata": {},
     "output_type": "execute_result"
    }
   ],
   "source": [
    "#split data\n",
    "x_train_bench, x_test_bench, y_train_bench, y_test_bench = train_test_split(data_bench.iloc[:,:26], data_bench.iloc[:,26], test_size=0.25, stratify= data_bench.iloc[:,26], shuffle = True, random_state=661)\n",
    "x_train_covid, x_test_covid, y_train_covid, y_test_covid = train_test_split(data_covid.iloc[:,:26], data_covid.iloc[:,26], test_size=0.25, stratify = data_covid.iloc[:,26], shuffle = True, random_state=661)\n",
    "x_train_bench"
   ]
  },
  {
   "cell_type": "markdown",
   "id": "ad46e8a8",
   "metadata": {},
   "source": [
    "# Algorithms"
   ]
  },
  {
   "cell_type": "code",
   "execution_count": 7,
   "id": "ae07a073",
   "metadata": {},
   "outputs": [],
   "source": [
    "def get_scores(clf, x_test, y_test):\n",
    "    preds = clf.best_estimator_.predict(x_test)\n",
    "    acc = clf.best_estimator_.score(x_test_bench, y_test_bench)\n",
    "    print(f\"Accuracy: {acc:.3f}\")\n",
    "    print(f\"F1 score: {f1_score(y_test, preds):.3f}\")\n",
    "\n",
    "    scores = cross_val_score(clf.best_estimator_, x_test, y_test, cv=10)\n",
    "    print(f\"CV train score: {clf.best_score_:.3f}\")\n",
    "    print(f\"CV test score: {scores.mean():.3f}\")\n",
    "\n",
    "    cm = metrics.confusion_matrix(y_test, preds)\n",
    "    print(cm)\n",
    "    sns.heatmap(cm, cmap = \"Blues\", annot=True, fmt='d')\n",
    "    print(f\"Best params: {clf.best_params_}\")"
   ]
  },
  {
   "cell_type": "markdown",
   "id": "223dcfc1",
   "metadata": {},
   "source": [
    "#### Logistic regression "
   ]
  },
  {
   "cell_type": "code",
   "execution_count": 9,
   "id": "2727111d",
   "metadata": {},
   "outputs": [
    {
     "name": "stdout",
     "output_type": "stream",
     "text": [
      "Accuracy: 0.864\n",
      "F1 score: 0.901\n",
      "CV train score: 0.894\n",
      "CV test score: 0.861\n",
      "[[ 91  26]\n",
      " [ 25 233]]\n",
      "Best params: {'C': 0.001, 'penalty': 'none', 'solver': 'lbfgs'}\n",
      "Wall time: 9.06 s\n"
     ]
    },
    {
     "data": {
      "image/png": "[encoded data removed]",
      "text/plain": [
       "<Figure size 640x480 with 2 Axes>"
      ]
     },
     "metadata": {},
     "output_type": "display_data"
    }
   ],
   "source": [
    "%%time\n",
    "\n",
    "params_logreg = dict(C = [0.001, 0.01, 0.1], penalty = ['l2', 'l1' ,'none'], solver = ['newton-cg', 'lbfgs', 'liblinear', 'sag', 'saga'])\n",
    "gridsearch_logregb = GridSearchCV(LogisticRegression(random_state = 661), params_logreg, cv = 10)\n",
    "gridsearch_logregb.fit(x_train_bench, y_train_bench)\n",
    "\n",
    "#get metrics\n",
    "get_scores(gridsearch_logregb, x_test_bench, y_test_bench)"
   ]
  },
  {
   "cell_type": "code",
   "execution_count": 10,
   "id": "fe53a050",
   "metadata": {},
   "outputs": [
    {
     "name": "stdout",
     "output_type": "stream",
     "text": [
      "Accuracy: 0.867\n",
      "F1 score: 0.852\n",
      "CV train score: 0.902\n",
      "CV test score: 0.886\n",
      "[[219  19]\n",
      " [ 24 124]]\n",
      "Best params: {'C': 0.001, 'penalty': 'none', 'solver': 'newton-cg'}\n",
      "Wall time: 9.05 s\n"
     ]
    },
    {
     "data": {
      "image/png": "[encoded data removed]",
      "text/plain": [
       "<Figure size 640x480 with 2 Axes>"
      ]
     },
     "metadata": {},
     "output_type": "display_data"
    }
   ],
   "source": [
    "%%time\n",
    "\n",
    "params_logreg = dict(C = [0.001, 0.01, 0.1], penalty = ['l2', 'l1' ,'none'], solver = ['newton-cg', 'lbfgs', 'liblinear', 'sag', 'saga'])\n",
    "gridsearch_logregc = GridSearchCV(LogisticRegression(random_state = 661), params_logreg, cv = 10)\n",
    "gridsearch_logregc.fit(x_train_covid, y_train_covid)\n",
    "\n",
    "#get metrics\n",
    "get_scores(gridsearch_logregc, x_test_covid, y_test_covid)"
   ]
  },
  {
   "cell_type": "markdown",
   "id": "1bf2c5ee",
   "metadata": {},
   "source": [
    "#### Decision tree"
   ]
  },
  {
   "cell_type": "code",
   "execution_count": 11,
   "id": "d49afe44",
   "metadata": {},
   "outputs": [
    {
     "name": "stdout",
     "output_type": "stream",
     "text": [
      "Accuracy: 0.813\n",
      "F1 score: 0.866\n",
      "CV train score: 0.860\n",
      "CV test score: 0.765\n",
      "[[ 79  38]\n",
      " [ 32 226]]\n",
      "Best params: {'criterion': 'entropy', 'max_depth': 5, 'min_samples_split': 2}\n",
      "Wall time: 25.5 s\n"
     ]
    },
    {
     "data": {
      "image/png": "[encoded data removed]",
      "text/plain": [
       "<Figure size 640x480 with 2 Axes>"
      ]
     },
     "metadata": {},
     "output_type": "display_data"
    }
   ],
   "source": [
    "%%time\n",
    "\n",
    "params_tree = dict(min_samples_split = range(1,10) , max_depth = range(1,10), criterion = [\"gini\", \"entropy\", \"log_loss\"])\n",
    "gridsearch_dtreeb = GridSearchCV(tree.DecisionTreeClassifier(random_state = 661), params_tree, cv = 10)\n",
    "gridsearch_dtreeb.fit(x_train_bench, y_train_bench)\n",
    "\n",
    "#get metrics\n",
    "get_scores(gridsearch_dtreeb, x_test_bench, y_test_bench)"
   ]
  },
  {
   "cell_type": "code",
   "execution_count": 12,
   "id": "c718f2e3",
   "metadata": {},
   "outputs": [
    {
     "name": "stdout",
     "output_type": "stream",
     "text": [
      "Accuracy: 0.800\n",
      "F1 score: 0.812\n",
      "CV train score: 0.875\n",
      "CV test score: 0.826\n",
      "[[206  32]\n",
      " [ 25 123]]\n",
      "Best params: {'criterion': 'entropy', 'max_depth': 3, 'min_samples_split': 2}\n",
      "Wall time: 25.2 s\n"
     ]
    },
    {
     "data": {
      "image/png": "[encoded data removed]",
      "text/plain": [
       "<Figure size 640x480 with 2 Axes>"
      ]
     },
     "metadata": {},
     "output_type": "display_data"
    }
   ],
   "source": [
    "%%time\n",
    "\n",
    "params_tree = dict(min_samples_split = range(1,10) , max_depth = range(1,10), criterion = [\"gini\", \"entropy\", \"log_loss\"])\n",
    "gridsearch_dtreec = GridSearchCV(tree.DecisionTreeClassifier(random_state = 661), params_tree, cv = 10)\n",
    "gridsearch_dtreec.fit(x_train_covid, y_train_covid)\n",
    "\n",
    "#get metrics\n",
    "get_scores(gridsearch_dtreec, x_test_covid, y_test_covid)"
   ]
  },
  {
   "cell_type": "code",
   "execution_count": 13,
   "id": "bdd95033",
   "metadata": {},
   "outputs": [
    {
     "data": {
      "text/plain": [
       "'dtreec.pdf'"
      ]
     },
     "execution_count": 13,
     "metadata": {},
     "output_type": "execute_result"
    }
   ],
   "source": [
    "#save actual dt for analysis\n",
    "dot_data = tree.export_graphviz(gridsearch_dtreeb.best_estimator_, out_file=None) \n",
    "graph = graphviz.Source(dot_data)\n",
    "graph.render(\"dtreeb\")\n",
    "\n",
    "dot_data = tree.export_graphviz(gridsearch_dtreec.best_estimator_, out_file=None) \n",
    "graph = graphviz.Source(dot_data)\n",
    "graph.render(\"dtreec\") "
   ]
  },
  {
   "cell_type": "markdown",
   "id": "3996570e",
   "metadata": {},
   "source": [
    "#### Random forest"
   ]
  },
  {
   "cell_type": "code",
   "execution_count": 14,
   "id": "b11e663c",
   "metadata": {},
   "outputs": [
    {
     "name": "stdout",
     "output_type": "stream",
     "text": [
      "Accuracy: 0.875\n",
      "F1 score: 0.912\n",
      "CV train score: 0.884\n",
      "CV test score: 0.858\n",
      "[[ 85  32]\n",
      " [ 15 243]]\n",
      "Best params: {'bootstrap': True, 'criterion': 'gini', 'max_depth': 3, 'min_samples_split': 2}\n",
      "Wall time: 44.3 s\n"
     ]
    },
    {
     "data": {
      "image/png": "[encoded data removed]",
      "text/plain": [
       "<Figure size 640x480 with 2 Axes>"
      ]
     },
     "metadata": {},
     "output_type": "display_data"
    }
   ],
   "source": [
    "%%time\n",
    "\n",
    "params_rf = dict(min_samples_split = range(1,3) , max_depth = range(1,5), bootstrap = [True, False], criterion = [\"gini\", \"entropy\"])\n",
    "gridsearch_rfb = GridSearchCV(RandomForestClassifier(random_state = 661), params_rf, cv = 10)\n",
    "gridsearch_rfb.fit(x_train_bench, y_train_bench)\n",
    "\n",
    "#get metrics\n",
    "get_scores(gridsearch_rfb, x_test_bench, y_test_bench)"
   ]
  },
  {
   "cell_type": "code",
   "execution_count": 15,
   "id": "d6aca65d",
   "metadata": {},
   "outputs": [
    {
     "name": "stdout",
     "output_type": "stream",
     "text": [
      "Accuracy: 0.851\n",
      "F1 score: 0.846\n",
      "CV train score: 0.894\n",
      "CV test score: 0.889\n",
      "[[217  21]\n",
      " [ 24 124]]\n",
      "Best params: {'bootstrap': False, 'criterion': 'gini', 'max_depth': 4, 'min_samples_split': 2}\n",
      "Wall time: 43 s\n"
     ]
    },
    {
     "data": {
      "image/png": "[encoded data removed]",
      "text/plain": [
       "<Figure size 640x480 with 2 Axes>"
      ]
     },
     "metadata": {},
     "output_type": "display_data"
    }
   ],
   "source": [
    "%%time\n",
    "\n",
    "params_rf = dict(min_samples_split = range(1,3) , max_depth = range(1,5), bootstrap = [True, False], criterion = [\"gini\", \"entropy\"])\n",
    "gridsearch_rfc = GridSearchCV(RandomForestClassifier(random_state = 661), params_rf, cv = 10)\n",
    "gridsearch_rfc.fit(x_train_covid, y_train_covid)\n",
    "\n",
    "#get metrics\n",
    "get_scores(gridsearch_rfc, x_test_covid, y_test_covid)"
   ]
  },
  {
   "cell_type": "markdown",
   "id": "87ea0b04",
   "metadata": {},
   "source": [
    "#### Artificial neural network"
   ]
  },
  {
   "cell_type": "code",
   "execution_count": null,
   "id": "51c3c14a",
   "metadata": {},
   "outputs": [],
   "source": []
  }
 ],
 "metadata": {
  "kernelspec": {
   "display_name": "Python 3 (ipykernel)",
   "language": "python",
   "name": "python3"
  },
  "language_info": {
   "codemirror_mode": {
    "name": "ipython",
    "version": 3
   },
   "file_extension": ".py",
   "mimetype": "text/x-python",
   "name": "python",
   "nbconvert_exporter": "python",
   "pygments_lexer": "ipython3",
   "version": "3.8.16"
  }
 },
 "nbformat": 4,
 "nbformat_minor": 5
}
